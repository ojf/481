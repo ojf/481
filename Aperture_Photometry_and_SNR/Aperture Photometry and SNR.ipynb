{
 "cells": [
  {
   "cell_type": "code",
   "execution_count": null,
   "metadata": {},
   "outputs": [],
   "source": [
    "# import numpy as np\n",
    "from astropy.modeling.models import Moffat1D\n",
    "from scipy.signal import peak_widths\n",
    "import matplotlib.pyplot as plt"
   ]
  },
  {
   "cell_type": "markdown",
   "metadata": {
    "slideshow": {
     "slide_type": "slide"
    }
   },
   "source": [
    "## Aperture Photometry and the CCD Equation\n",
    "\n",
    "- We'll learn how aperture photometry is performed on CCD data. \n",
    "- Then we'll form the *CCD Equation*: an estimate of the signal-to-noise ratio (SNR) for aperture photometry."
   ]
  },
  {
   "cell_type": "markdown",
   "metadata": {
    "slideshow": {
     "slide_type": "slide"
    }
   },
   "source": [
    "### Aperture Photometry\n",
    "\n",
    "Aperture Photometry has its roots in *photometers*, special purpose instruments built to acurately measure light. Since these measurements form the basis of traditional photometry, and light entered through an aperture, and *we simulate apertures on our CCD images*.\n",
    "\n",
    "Procedure for aperature photometry (you first!)\n"
   ]
  },
  {
   "cell_type": "markdown",
   "metadata": {
    "slideshow": {
     "slide_type": "fragment"
    }
   },
   "source": [
    "1. Find the center of the star's PSF.\n",
    "\n",
    "2. Sum the total flux within radius *r* of that center. All the light in the aperture is counted, so fractional pixels are a thing.\n",
    "\n",
    "4. Measure sky brightness within a donut-shaped *annulus* centered on, but somewhat distant from, the star.\n",
    "\n",
    "  - The annulus should contain very little star light, so watch out for nearby stars!\n",
    "  - Divide flux by annulus area to get *sky*: the brightness per pixel\n",
    "\n",
    "6. Subtract the sky background by multiplying *sky* by the area of the aperture (*not the annulus*!) and subtract that quantity from the total flux.\n",
    "\n",
    "What's left is the star's flux!"
   ]
  },
  {
   "cell_type": "code",
   "execution_count": 64,
   "metadata": {
    "slideshow": {
     "slide_type": "slide"
    }
   },
   "outputs": [
    {
     "name": "stdout",
     "output_type": "stream",
     "text": [
      "FWHM = 4.0\n"
     ]
    },
    {
     "data": {
      "image/png": "[encoded data removed]",
      "text/plain": [
       "<Figure size 1152x432 with 1 Axes>"
      ]
     },
     "metadata": {
      "needs_background": "light"
     },
     "output_type": "display_data"
    }
   ],
   "source": [
    "# Plot a 1-D model PSF\n",
    "flux = 1\n",
    "gamma = 2 # *Half* width at half max\n",
    "alpha = 1 # power index (shape)\n",
    "PSF = Moffat1D(flux, 0, gamma, alpha)\n",
    "\n",
    "plt.figure(figsize=(16,6)) # make the plot w i d e\n",
    "ymin, ymax = plt.ylim(-0.4,1.05) # make some space for labels\n",
    "X = np.linspace(-25,25,250)\n",
    "plt.plot(X, PSF(X))\n",
    "\n",
    "# Label the fwhm\n",
    "fwhm = PSF.fwhm\n",
    "print(\"FWHM =\", fwhm)\n",
    "plt.hlines(0.5, 0-fwhm/2., 0+fwhm/2, color=\"k\")\n",
    "txt = plt.annotate(\"fwhm\", (0, 0.4), size=15, ha=\"center\")\n",
    "\n",
    "# Show where a circular aperture would go\n",
    "aperture_radius = 6\n",
    "plt.hlines(-0.1, -aperture_radius, aperture_radius)\n",
    "txt = plt.annotate(\"aperture\", (0, -0.2), size=15, ha=\"center\")\n",
    "\n",
    "# Show sky annulus where background light is measured\n",
    "annulus_r_in = -20\n",
    "annulus_r_out = -23\n",
    "plt.hlines(-0.1, -annulus_r_in, -annulus_r_out)\n",
    "txt = plt.annotate(\"sky\", (-annulus_r_out, -0.2), size=15)\n",
    "plt.hlines(-0.1, annulus_r_in, annulus_r_out)\n",
    "txt = plt.annotate(\"sky\", (annulus_r_in, -0.2), size=15)"
   ]
  },
  {
   "cell_type": "markdown",
   "metadata": {},
   "source": [
    "That's how everything is laid out, just imagine it rotated around the center of the star, so the sky annulus becomes a ring.\n",
    "\n",
    "![](aperture_labelled.png)\n",
    "Image Copyright © Michael Richmond. Licensed under a [Creative Commons License](http://creativecommons.org/licenses/by-nc-sa/2.0/)"
   ]
  },
  {
   "cell_type": "markdown",
   "metadata": {
    "slideshow": {
     "slide_type": "slide"
    }
   },
   "source": [
    "### Larger apertures add more light, but also more noise\n",
    "\n",
    "Aperture size is a trade-off between maximizing star light and minimizing noise. The three most important types of noise are:\n",
    "\n",
    "1. Poisson noise in the star's flux\n",
    "2. Poisson noise from the sky background (the aperture includes flux from the sky!)\n",
    "3. CCD read noise \n",
    "- If you use a dark to remove dark current, then add in Poisson noise from the dark too.\n",
    "- Honestly not sure why Poisson noise from the bias isn't included: averaging?\n"
   ]
  },
  {
   "cell_type": "markdown",
   "metadata": {
    "slideshow": {
     "slide_type": "slide"
    }
   },
   "source": [
    "### Past a certain point, very little signal is added, so we'd expect that SNR would decrease. \n",
    "\n",
    "\n",
    "![](Aperture_vs_fwhm.png)\n",
    "\n",
    "From Howell, Steve B. *Handbook of CCD Astronomy*, Cambridge University Press, 2006. "
   ]
  },
  {
   "cell_type": "markdown",
   "metadata": {
    "slideshow": {
     "slide_type": "slide"
    }
   },
   "source": [
    "### Understanding Noise in CCD Images\n",
    "\n",
    "To understand noise in CCDs, you must understand how CCD counts are constructed from the photo-electrons detected. \n",
    "\n",
    "- Counts are sometimes called ADUs (Analog-to-Digital Units) or DNs (Data Numbers). \n",
    "- A photo-electron is an electron that has absorbed the energy of a single photon. These electrons can then be read-out.\n",
    "\n",
    "Remember that CCDs are analog devices that use analog-to-digital converters (ADCs) to \"count\" the voltage produced by the read-out electronics. This converter sets the maximum number of counts, typically 65,535 since most ADCs are 16 bit devices."
   ]
  },
  {
   "cell_type": "markdown",
   "metadata": {
    "slideshow": {
     "slide_type": "subslide"
    }
   },
   "source": [
    "### Understanding Counts\n",
    "\n",
    "We'd like to measure photons, but we actually measure *photo-electrons*. Even then, counts are generally not equal to the number of photo-electrons detected. Instead each count is usually equal to a set number of detected photo-electrons; this number is called the *gain*.\n",
    "\n",
    "$\\text{gain} \\equiv \\frac{\\text{# photo-electrons}}{\\text{count}}$\n",
    "\n",
    "(Some people call this inverse-gain, since the photons cause the counts, but that gets awkward. It's only defined this way to make the equations neater.)\n",
    "\n",
    "The gain is typically set so that the maximum number of counts corresponds to the maximum number of photo-electrons each pixel can hold. The gain does affect the read noise, but because read noise is typically small, we don't often change the gain."
   ]
  },
  {
   "cell_type": "markdown",
   "metadata": {
    "slideshow": {
     "slide_type": "slide"
    }
   },
   "source": [
    "### Read Noise\n",
    "\n",
    "Since read noise depends on the CCD and its electronics, it is typically measured from the standard deviation of a bias (actually you probably took the difference of a pair of biases and divided by 2). In an aperture, the contribution from read noise is,\n",
    "\n",
    "$ \\sigma_{\\text{RN aperture}} = \\sqrt{n_{pix} \\times \\sigma_{RN}^2} $\n",
    "\n",
    "Where $n_{pix}$ is the number of pixels in your aperture, and RN is the read noise (per pixel) that you measured for your CCD."
   ]
  },
  {
   "cell_type": "markdown",
   "metadata": {
    "slideshow": {
     "slide_type": "slide"
    }
   },
   "source": [
    "### Poisson noise\n",
    "\n",
    "#### From the Star\n",
    "\n",
    "Poisson noise is just the square root of N, which in this case is the number of photo-electrons from the star (*). Because we measure counts, not photo-electrons, use gain to transform the measured total counts into the total number of photo-electrons:\n",
    "\n",
    "$ \\sigma_{*} = \\sqrt{g \\times N_*} $\n",
    "\n",
    "#### From the Sky\n",
    "\n",
    "Noise from the sky is typically expressed per pixel, so this is very similar except that you multiply by the number of pixels in your aperture:\n",
    "\n",
    "$ \\sigma_{sky} = \\sqrt{n_{pix} \\times g \\times N_{sky}} $\n",
    "\n",
    "Note that $n_{pix}$ is the area of the aperture, not the annulus; remember that there is sky noise **in** our aperture. The annulus is just for measuring the sky background ($N_{sky}$)."
   ]
  },
  {
   "cell_type": "markdown",
   "metadata": {
    "slideshow": {
     "slide_type": "slide"
    }
   },
   "source": [
    "### Put all this together, and you have The CCD Equation\n",
    "\n",
    "*The CCD Equation* is just the signal (from the star) divided by these random errors added in quadrature:\n",
    "\n",
    "$ S/N = \\frac{gN_*} {\\sqrt{ gN_* + n_{pix}gN_{sky} + n_{pix}\\sigma_{RN}^2 }} $\n",
    "\n",
    "#### For Bright Sources\n",
    "\n",
    "If $N_*$ is much greater than sky and readnoise:\n",
    "\n",
    "$ S/N = \\frac{gN_*}{\\sqrt{gN_*}} = \\sqrt{gN_*}$\n",
    "\n",
    "#### A Handy Relation\n",
    "\n",
    "It's often claimed that magnitude errors are the inverse of photometric accuracy (i.e. +/- 0.1 mags implies 10% accuracy). It's almost right. If SNR is high enough to ignore SNR^2, SNR^3, etc. terms, then:\n",
    "\n",
    "$ \\sigma_m \\approx \\pm 1.0875(\\frac{N}{S})$"
   ]
  },
  {
   "cell_type": "markdown",
   "metadata": {
    "slideshow": {
     "slide_type": "slide"
    }
   },
   "source": [
    "### You Can Maximize Signal to Noise\n",
    "\n",
    "Hope for a narrow PSF so you can maximize the flux from the star and use a small aperture, which minimizes noise from the sky. Of course, we get what we get.\n",
    "\n",
    "Consider the variable star TrES-1, located in the box in the lower right. (From Birney D.S., Gonzalez G., Oesper D. *Observational Astronomy*. 2nd ed., Cambridge University Press, 2006.)\n",
    "\n",
    "![](Star_for_plot.jpg)\n",
    "\n",
    "Apertures and sky anulli are shown, although TrES-1's aperture is not visible. "
   ]
  },
  {
   "cell_type": "markdown",
   "metadata": {
    "slideshow": {
     "slide_type": "slide"
    }
   },
   "source": [
    "### The Best S/N\n",
    "\n",
    "The CCD Equation star has a maximum when the aperture has a radius of 6 (this star's FWHM is about 5). \n",
    "![](mag_SNR_aperture_plot.jpg)\n",
    "\n",
    "From Birney D.S., Gonzalez G., Oesper D. *Observational Astronomy*. 2nd ed., Cambridge University Press, 2006."
   ]
  },
  {
   "cell_type": "markdown",
   "metadata": {
    "slideshow": {
     "slide_type": "slide"
    }
   },
   "source": [
    "### Where to put the Sky Annulus\n",
    "\n",
    "On one hand it's tempting to measure the sky far away from the star, but in crowded fields this can be hard to do. \n",
    "- Give the star some space, but far from every other star, and not larger than your flat field failings.\n",
    "- Sky annuli can easily have more area than apertures, but if you cover too much area you increase the chance of measuring very dim stars, galaxies, a cosmic ray, etc. \n",
    "- So small anulli are okay! Some of the (target) star's light will end up in the sky annulus, but it will be calibrated if you *use the same aperture to measure your standard stars.*\n",
    "- Probably more important than how large it is, is how you reject data in that area. Don't average it, perhaps don't even use the median, consider the mode.\n",
    "\n",
    "\n",
    "![](aperture_labelled.png)"
   ]
  },
  {
   "cell_type": "markdown",
   "metadata": {
    "slideshow": {
     "slide_type": "slide"
    }
   },
   "source": [
    "### TLDR\n",
    "\n",
    "- Aperature size should be 1-3 x FWHM, not more. \n",
    "- Sky annuli can be skinny; you'll still have plenty of pixels (count them!). If you average the sky pixels you're asking for trouble.\n",
    "- Use the same aperture for your science stars and your standard stars\n",
    "  - Or I will be sad at you. ☹️\n",
    "\n"
   ]
  },
  {
   "cell_type": "markdown",
   "metadata": {
    "slideshow": {
     "slide_type": "slide"
    }
   },
   "source": [
    "### Aperture Photometry Forever?\n",
    "\n",
    "Dunno, maybe. Here are other good options\n",
    "\n",
    "- PSF Fitting: Simultaneously fit all stars in an image. An iterative process in which the bright stars are fit, then subtracted, in order to find previously hidden dim stars. Typically only for crowded fields (but things change!)\n",
    "- Maximum Likelihood Analysis: Use modern statistics to estimate magnitudes. See Prof. Juric's Astro Statistics course."
   ]
  }
 ],
 "metadata": {
  "celltoolbar": "Slideshow",
  "kernelspec": {
   "display_name": "Python 3",
   "language": "python",
   "name": "python3"
  },
  "language_info": {
   "codemirror_mode": {
    "name": "ipython",
    "version": 3
   },
   "file_extension": ".py",
   "mimetype": "text/x-python",
   "name": "python",
   "nbconvert_exporter": "python",
   "pygments_lexer": "ipython3",
   "version": "3.8.5"
  },
  "rise": {
   "enable_chalkboard": true,
   "scroll": true,
   "theme": "Sky"
  }
 },
 "nbformat": 4,
 "nbformat_minor": 4
}
