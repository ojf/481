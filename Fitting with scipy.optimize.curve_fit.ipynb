{
 "cells": [
  {
   "cell_type": "markdown",
   "metadata": {},
   "source": [
    "**scipy.optimize.curve_fit()**\n",
    "\n",
    "curve_fit() is my favorite fitting method because it's so flexible. It will fit to any function you can define. Believe it or not, but this method dates back to 1980! (MINPACK, originally implimented in FORTRAN)\n",
    "\n",
    "Full details, including how to calculate errors in the fit parameters, are available here:\n",
    "https://docs.scipy.org/doc/scipy/reference/generated/scipy.optimize.curve_fit.html"
   ]
  },
  {
   "cell_type": "code",
   "execution_count": 15,
   "metadata": {},
   "outputs": [],
   "source": [
    "import numpy as np\n",
    "from scipy.optimize import curve_fit\n",
    "import matplotlib.pyplot as plt"
   ]
  },
  {
   "cell_type": "code",
   "execution_count": 3,
   "metadata": {},
   "outputs": [],
   "source": [
    "# Define any function you want, but your independent variable *must* be \n",
    "# be the first argument, followed by as many parameters as you like.\n",
    "def MyLine(x, slope = 1.0, yintercept = 0.0):\n",
    "    y = slope*x + yintercept\n",
    "    return y"
   ]
  },
  {
   "cell_type": "code",
   "execution_count": 16,
   "metadata": {},
   "outputs": [],
   "source": [
    "# fake data!\n",
    "x = np.linspace(-5,5,5)\n",
    "y = [-0.1, -.05, 0, 0.1, 0.1]\n",
    "\n",
    "# Providing guesses for the parameters is optional,  \n",
    "# I show it here so you know how to do it. \n",
    "guess = [0, 0]\n",
    "fit = curve_fit(MyLine, x, y, guess) \n",
    "# That's it! Again, 'guess' is optional."
   ]
  },
  {
   "cell_type": "code",
   "execution_count": 17,
   "metadata": {},
   "outputs": [
    {
     "name": "stdout",
     "output_type": "stream",
     "text": [
      "slope = 0.022000000000047995 y-intercept = 0.01000000000001308\n"
     ]
    },
    {
     "data": {
      "text/plain": [
       "[<matplotlib.lines.Line2D at 0x101979cac8>]"
      ]
     },
     "execution_count": 17,
     "metadata": {},
     "output_type": "execute_result"
    },
    {
     "data": {
      "image/png": "[encoded data removed]",
      "text/plain": [
       "<Figure size 432x288 with 1 Axes>"
      ]
     },
     "metadata": {
      "needs_background": "light"
     },
     "output_type": "display_data"
    }
   ],
   "source": [
    "(slope, yintercept) = fit[0] # first element is the optimized parameters\n",
    "print(\"slope =\", slope, \"y-intercept =\", yintercept)\n",
    "\n",
    "plt.plot(x, y, 'bo')\n",
    "plt.plot(x, MyLine(x, slope, yintercept)) \n",
    "# There are fancy ways to \"unpack\" all of your parameters \n",
    "# when you call your function, but I don't know them,\n",
    "# and I appreciate the clarity of this approach"
   ]
  }
 ],
 "metadata": {
  "kernelspec": {
   "display_name": "Python 3",
   "language": "python",
   "name": "python3"
  },
  "language_info": {
   "codemirror_mode": {
    "name": "ipython",
    "version": 3
   },
   "file_extension": ".py",
   "mimetype": "text/x-python",
   "name": "python",
   "nbconvert_exporter": "python",
   "pygments_lexer": "ipython3",
   "version": "3.8.5"
  }
 },
 "nbformat": 4,
 "nbformat_minor": 4
}
