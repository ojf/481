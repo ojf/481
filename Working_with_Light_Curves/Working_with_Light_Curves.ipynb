{
 "cells": [
  {
   "cell_type": "code",
   "execution_count": null,
   "metadata": {
    "slideshow": {
     "slide_type": "-"
    }
   },
   "outputs": [],
   "source": [
    "import numpy as np\n",
    "import matplotlib.pyplot as plt"
   ]
  },
  {
   "cell_type": "markdown",
   "metadata": {
    "slideshow": {
     "slide_type": "slide"
    }
   },
   "source": [
    "### Analyzing Light Curves\n",
    "1. Creating Light Curves\n",
    "    - Differential Photometry in a Nutshell\n",
    "    - Reading in your data\n",
    "1. Plotting Light Curves\n",
    "    - Phased Plots\n",
    "2. Spectral Analysis\n",
    "    - Fourier Transforms\n",
    "    - Interlude: The Sampling Theorem\n",
    "    - However: Don't worry\n",
    "3. Fitting Light Curves\n",
    "    - Start with a guess"
   ]
  },
  {
   "cell_type": "markdown",
   "metadata": {
    "slideshow": {
     "slide_type": "slide"
    }
   },
   "source": [
    "### Differential Photometry in a Nutshell\n",
    "\n",
    "While traditional photometry requires \"photometric\" nights and observations of an extinction star, differential photometry literally divides it all out, along with the effects of moonlight and clouds! (clouds are assumed to have no structure at sizes comparable to our field of view.)\n",
    "\n",
    "This is possible by measuring the magnitude of the target star relative to the magnitude of a *comparison star* in the same image. *Relative photometry doesn't require any corrections due to extinction!*. \n",
    "\n",
    "$ \\text{corrected target}(t) = \\text{target}(t) - \\text{comp}(t) $\n",
    "\n",
    "(Since we're working in magnitudes I subtracted the comparison star. If you were working in counts--which is *flux*--we would have done the obvious thing and divided.)\n",
    "\n",
    "In practice we could use multiple comparison stars: \n",
    "\n",
    "$ \\text{corrected target}(t) = \\text{target}(t) - \\frac{\\text{comp1}(t) + \\text{comp2}(t) + \\text{comp3}(t) + \\ldots}{\\text{ncomps} } $\n",
    "\n",
    "The AAVSO splits the difference and suggests observing a comparison star and a *check star*, which serves to confirm that the comparison star does not have any variability. In any case, all of these stars should:\n",
    "- exist in *every image*\n",
    "- be similar in brightness to each other (or use weighted average?)\n",
    "- have stable magnitudes throughout the observation run.\n"
   ]
  },
  {
   "cell_type": "markdown",
   "metadata": {
    "slideshow": {
     "slide_type": "slide"
    }
   },
   "source": [
    "### Differential Photometry Example\n",
    "\n",
    "Variable RXJ1643.7+3402 with four potential comparison stars (A, B, C and D):\n",
    "\n",
    "![](rx_chart.gif)\n",
    "\n",
    "![](rx_comparison_stars.png)\n",
    "\n",
    "D, B, RX, and then A & C magnitudes versus time (~1 hour)\n",
    "\n",
    "This team decided to report magnitudes relative to star D, but the AAVSO way would be to use photometry relative to A, B, and C after checking each against D: \n",
    "\n",
    "| Image | RX-D | A-D | B-D | C-D |\n",
    "| ----- | ---- | --- | --- | --- |\n",
    "|  1    | 0.99 | 0.94| 0.59| 1.1 |\n",
    "|  2    | 1.05 | 0.90| 0.62| 1.05 |\n",
    "|  etc... |\n",
    "\n",
    "You can also show these differences (plotted as '+') along with your target star's light curve ('.').\n",
    "\n",
    "![](eclipse+comp.png)\n",
    "TrES-1, from Birney D.S., Gonzalez G., Oesper D. Observational Astronomy. 2nd ed., Cambridge University Press, 2006.\n"
   ]
  },
  {
   "cell_type": "markdown",
   "metadata": {
    "slideshow": {
     "slide_type": "slide"
    }
   },
   "source": [
    "### Reading in your light curve\n",
    "\n",
    "Lots of ways to do this. I like numpy's `genfromtxt()` because it  creates a structure of numpy arrays and uses column headers to label the data. It also has many other options that can be just what one needs at times, see:\n",
    "\n",
    "https://docs.scipy.org/doc/numpy/reference/generated/numpy.genfromtxt.html\n",
    "\n",
    "(Pandas' `readcsv()` is really neat too, but then there's an additional step to generate a numpy array.)"
   ]
  },
  {
   "cell_type": "code",
   "execution_count": null,
   "metadata": {},
   "outputs": [],
   "source": [
    "lc = np.genfromtxt('MACHO_10.3430.8.dat', names=True)\n",
    "t = lc['date']\n",
    "mag = lc['bmag']"
   ]
  },
  {
   "cell_type": "markdown",
   "metadata": {
    "slideshow": {
     "slide_type": "slide"
    }
   },
   "source": [
    "### Plotting a light curve"
   ]
  },
  {
   "cell_type": "code",
   "execution_count": null,
   "metadata": {},
   "outputs": [],
   "source": [
    "plt.plot(t,mag, 'bo', alpha=0.4)\n",
    "plt.gca().invert_yaxis()"
   ]
  },
  {
   "cell_type": "markdown",
   "metadata": {
    "slideshow": {
     "slide_type": "slide"
    }
   },
   "source": [
    "### Please don't connect the dots\n",
    "![](bad_light_curve.png)\n",
    "Actual \"huh?\" plot from a previous 481..."
   ]
  },
  {
   "cell_type": "markdown",
   "metadata": {
    "slideshow": {
     "slide_type": "slide"
    }
   },
   "source": [
    "### Plotting a folded (or phased) light curve\n",
    "Use the modulo ('%') function to divide out the period, leaving only remainders.\n",
    "\n",
    "Note: I've been using this method for years, there are newer ways: \n",
    "http://docs.astropy.org/en/stable/timeseries/"
   ]
  },
  {
   "cell_type": "code",
   "execution_count": null,
   "metadata": {},
   "outputs": [],
   "source": [
    "period = 629.8\n",
    "plt.plot((t % period)/period, mag, 'bo', alpha=0.4)\n",
    "plt.gca().invert_yaxis()"
   ]
  },
  {
   "cell_type": "markdown",
   "metadata": {
    "slideshow": {
     "slide_type": "slide"
    }
   },
   "source": [
    "### The Devious Double-Folded Light Curve\n",
    "This style of light curve shows two periods, which shows the structure of the light curve without abitrary endpoints, but it's devious because every data point is plotted twice..."
   ]
  },
  {
   "cell_type": "code",
   "execution_count": null,
   "metadata": {},
   "outputs": [],
   "source": [
    "x = np.append( (t % period)/period, (t % period)/period + 1 )\n",
    "y = np.append( mag, mag )\n",
    "plt.plot( x, y, 'bo', alpha=0.4)\n",
    "plt.gca().invert_yaxis()"
   ]
  },
  {
   "cell_type": "code",
   "execution_count": null,
   "metadata": {
    "slideshow": {
     "slide_type": "slide"
    }
   },
   "outputs": [],
   "source": [
    "\"\"\" Try it!\n",
    "\"\"\"\n",
    "\n",
    "lc = np.genfromtxt('LightCurve4.dat', names=True)\n",
    "t = lc['date']\n",
    "mag = lc['bmag']\n",
    "\n",
    "# try plotting this light curve!"
   ]
  },
  {
   "cell_type": "markdown",
   "metadata": {
    "slideshow": {
     "slide_type": "slide"
    }
   },
   "source": [
    "### Spectral Analysis of Light Curves\n",
    "Real light curve data usually looks like this, but math will come to the rescue!"
   ]
  },
  {
   "cell_type": "code",
   "execution_count": null,
   "metadata": {},
   "outputs": [],
   "source": [
    "lc = np.genfromtxt('TU_Cas.dat', names=['date','mag'])\n",
    "t = lc['date']\n",
    "mag = lc['mag']\n",
    "\n",
    "plt.plot(t,mag, 'bo', alpha=0.4)\n",
    "plt.gca().invert_yaxis()"
   ]
  },
  {
   "cell_type": "markdown",
   "metadata": {
    "slideshow": {
     "slide_type": "slide"
    }
   },
   "source": [
    "### Fourier transforms\n",
    "A real Fourier code will transform the data from temporal space to frequency space; it's  equivalent to fitting sine curves at a bunch of different frequencies. The output is a *power spectrum:* how much periodicity at each frequency.\n",
    "\n",
    "The plot below is actually a Lomb-Scargle periodigram, which for years was the only easily available fourier-based method. It's okay because we're just paying attention to the location of the highest peak, which we can then use to find a period."
   ]
  },
  {
   "cell_type": "code",
   "execution_count": null,
   "metadata": {},
   "outputs": [],
   "source": [
    "from astropy.timeseries import LombScargle\n",
    "frequency, power = LombScargle(t, mag).autopower()\n",
    "plt.plot(frequency, power)"
   ]
  },
  {
   "cell_type": "markdown",
   "metadata": {
    "slideshow": {
     "slide_type": "-"
    }
   },
   "source": [
    "A Lomb Scargle Periodigram is just a power spectrum scaled so the y-axis is a probability:\n",
    "\n",
    "http://docs.astropy.org/en/stable/stats/lombscargle.html\n",
    "\n",
    "FYI, I've been using this method for years, but there are newer ways: \n",
    "\n",
    "http://docs.astropy.org/en/stable/timeseries/"
   ]
  },
  {
   "cell_type": "markdown",
   "metadata": {
    "slideshow": {
     "slide_type": "slide"
    }
   },
   "source": [
    "### Why we use Fourier Analysis\n",
    "\n",
    "For periodic objects, the highest amplitudes of the power spectrum are the frequencies where the data actually kinda looks like a sine curve. Because a light curve can be periodic but not sine-like, in practise a Fourier transform may miss the best frequency, but is often used to generate a good initial guess for fitting."
   ]
  },
  {
   "cell_type": "code",
   "execution_count": null,
   "metadata": {
    "slideshow": {
     "slide_type": "-"
    }
   },
   "outputs": [],
   "source": [
    "period = 1./frequency[np.argmax(power)] # note use of argmax()\n",
    "print (\"period =\", period)\n",
    "plt.plot((t % period)/period, mag, 'bo', alpha=0.4)\n",
    "plt.gca().invert_yaxis()"
   ]
  },
  {
   "cell_type": "code",
   "execution_count": null,
   "metadata": {
    "slideshow": {
     "slide_type": "slide"
    }
   },
   "outputs": [],
   "source": [
    "\"\"\" Try it!\n",
    "\"\"\"\n",
    "\n",
    "lc = np.genfromtxt('LightCurve4.dat', names=True)\n",
    "t = lc['date']\n",
    "mag = lc['bmag']\n",
    "\n",
    "frequency, power = LombScargle(t, mag).autopower()\n",
    "plt.plot(frequency, power)\n",
    "\n",
    "period = 1./frequency[np.argmax(power)] # note use of argmax()\n",
    "print (\"period =\", period)\n",
    "# plt.plot((t % period)/period, mag, 'bo', alpha=0.4)\n",
    "# plt.gca().invert_yaxis()\n",
    "\n",
    "# try finding the period of this light curve!"
   ]
  },
  {
   "cell_type": "markdown",
   "metadata": {
    "slideshow": {
     "slide_type": "slide"
    }
   },
   "source": [
    "## Interlude: Limits on Periods Finding and The Sampling Theorem\n",
    "\n",
    "The Sampling Theorem, attributed to Claude Shannon (1949), is very useful for understanding and analyzing astronomical light curves. It defines the Nyquist Frequency (based on work by Harry Nyquist in 1928) as:\n",
    "\n",
    "$$\n",
    "f_{Nyquist} \\equiv \\frac{1}{2\\delta}\n",
    "$$\n",
    "\n",
    "where $\\delta$ is the time between observations. The Nyquist frequency is a limit to what we can measure. Specifically:\n",
    "\n",
    "1. You cannot detect frequencies above the Nyquist Frequency. \n",
    "2. But the power in those frequencies will be present (\"aliased\") into the range you are searching."
   ]
  },
  {
   "cell_type": "markdown",
   "metadata": {
    "slideshow": {
     "slide_type": "slide"
    }
   },
   "source": [
    "## Sampling Theorem Demo\n",
    "\n",
    "\n",
    "Lets see how this looks. If we observe once per day, then the Nyquist limit is, \n",
    "\n",
    "$$\n",
    "f_{Nyquist} = \\frac{1}{2 \\times 1} = 0.5\n",
    "$$"
   ]
  },
  {
   "cell_type": "markdown",
   "metadata": {},
   "source": [
    "So lets try a light curve with a frequency higher than the Nyquist frequency\n",
    "\n",
    "$$ \n",
    "P_{Sine Wave} = 0.9 \\qquad f_{Sine Wave} = 1.11 > f_{Nyquist}\n",
    "$$"
   ]
  },
  {
   "cell_type": "code",
   "execution_count": null,
   "metadata": {},
   "outputs": [],
   "source": [
    "def Sine(t, amp = 1.0, offset = 0.0, period = 1.0, phase = 0.0):\n",
    "    y = np.sin( 2*np.pi/period*(t-phase) )\n",
    "    return amp/2 * y + offset\n",
    "\n",
    "period=0.9\n",
    "amp=0.85\n",
    "offset = 0\n",
    "phase=0.45\n",
    "\n",
    "t = np.arange(0,100,1.) # timespan is 100 days\n",
    "mag = Sine(t, amp, offset, period, phase)\n",
    "\n",
    "plt.plot(t,mag, 'bo', alpha=0.4)\n",
    "plt.gca().invert_yaxis()"
   ]
  },
  {
   "cell_type": "code",
   "execution_count": null,
   "metadata": {
    "slideshow": {
     "slide_type": "slide"
    }
   },
   "outputs": [],
   "source": [
    "# http://docs.astropy.org/en/stable/stats/lombscargle.html\n",
    "frequency, power =  LombScargle(t, mag).autopower()\n",
    "plt.plot(frequency, power)\n",
    "max_f = frequency[np.argmax(power)]\n",
    "plt.annotate(\"f_Nyquist\", xy=(0.5,0.01), xytext=(0.3, 0.2),arrowprops=dict(arrowstyle='-|>'))\n",
    "#annotate(\"f_real\", xy=(1.11+0.05,0.01), xytext=(1.21, 0.2),arrowprops=dict(arrowstyle='-|>'))\n",
    "#annotate(\"f_LombScargle\", xy=(max_f+0.05,0.01), xytext=(max_f+0.1, 0.2),arrowprops=dict(arrowstyle='-|>'))\n",
    "\n",
    "print( \"Input period was\", period, \"days (f =\", 1/period, \")\" )\n",
    "lsperiod = 1./frequency[np.argmax(power)]\n",
    "print( \"LombScargle period =\", lsperiod, \"(f =\", frequency[np.argmax(power)], \")\" )"
   ]
  },
  {
   "cell_type": "markdown",
   "metadata": {
    "slideshow": {
     "slide_type": "slide"
    }
   },
   "source": [
    "### Nyquist Limits\n",
    "\n",
    "This leads to the following limits:\n",
    "\n",
    "$$\n",
    "P_{max} = \\mathrm{timespan}      \\qquad f_{min} =  \\frac{1}{\\mathrm{timespan}} \n",
    "$$\n",
    "$$\n",
    "P_{min} = \\frac{\\mathrm{timespan}}{n_{obs}/2} \\qquad f_{max} = f_{Nyquist} = \\frac{n_{obs}/2}{\\mathrm{timespan}}\n",
    "$$\n",
    "\n",
    "(Because astronomical data is rarely taken in such a perfectly regular fashion, I find it useful to define everything in terms of the average time between observations rather than $\\delta$.)\n",
    "\n"
   ]
  },
  {
   "cell_type": "markdown",
   "metadata": {
    "slideshow": {
     "slide_type": "subslide"
    }
   },
   "source": [
    "## However: Don't Worry\n",
    "\n",
    "Astronomical data is rarely taken in a perfectly regular fashion; this ensures unequal time sampling--which collapses the uncertainty for frequencies well above the Nyquist Frequency. So, jiggle your samples around just a little bit, and you can commonly search up to $f_{max} = 10*f_{Nyquist}$.\n",
    "\n",
    "When using a Discrete Fourier Transform method you often have to specify the spacing of the frequencies you'll search. The exact same criteria apply to $f_{\\delta}$ as they did to $f_{max}$: I typically set $f_{\\delta} = f_{Nyquist}/10$. A great reference to all of this is the four pages of *Numerical Recipes in C*, second edition (1992): Section  13.8: Spectral Analysis of Unevenly Sampled Data.\n",
    "\n",
    "### A Hint\n",
    "\n",
    "Weird results can become familier by generating the \"window function\". This is just what we did in this example: define a regular sine curve sampled with your data's time array, and feed that into the Fourier code. The result, which you know should have only one real peak, is the \"window\" through which simple sine curves are seen when sampled the same way as your data."
   ]
  },
  {
   "cell_type": "markdown",
   "metadata": {
    "slideshow": {
     "slide_type": "slide"
    }
   },
   "source": [
    "### Fitting Light Curves\n",
    "In practise, fitting is more accurate than Fourier methods for non-sinusoidal light-curves, but since fits often require a guess, use a Fourier method to generate one!"
   ]
  },
  {
   "cell_type": "markdown",
   "metadata": {
    "slideshow": {
     "slide_type": "slide"
    }
   },
   "source": [
    "### Example: A Challenging Light Curve:"
   ]
  },
  {
   "cell_type": "code",
   "execution_count": null,
   "metadata": {},
   "outputs": [],
   "source": [
    "def add_noise(x, amp=0.1):\n",
    "    return np.asarray([i + (amp*(np.random.random()-0.5)) for i in x])\n",
    "\n",
    "# this is actually where the light \"curve\" gets defined\n",
    "# note parameters below, both for t (observations) and Sine curve\n",
    "t = add_noise(np.arange(0,30,0.31))\n",
    "mag = Sine(t, amp=0.85, period=1.25, phase=0.45)\n",
    " \n",
    "plt.plot(t,mag, 'bo')\n",
    "plt.gca().invert_yaxis()"
   ]
  },
  {
   "cell_type": "markdown",
   "metadata": {
    "slideshow": {
     "slide_type": "slide"
    }
   },
   "source": [
    "### Generate a guess w/ Fourier"
   ]
  },
  {
   "cell_type": "code",
   "execution_count": null,
   "metadata": {},
   "outputs": [],
   "source": [
    "frequency, power = LombScargle(t, mag).autopower()\n",
    "plt.plot(frequency, power)\n",
    "#axis([0,0.01, 0, 0.9])\n",
    "period = 1./frequency[np.argmax(power)]\n",
    "print (\"period =\", period)"
   ]
  },
  {
   "cell_type": "markdown",
   "metadata": {
    "slideshow": {
     "slide_type": "slide"
    }
   },
   "source": [
    "### Fit with a Sine Curve"
   ]
  },
  {
   "cell_type": "code",
   "execution_count": null,
   "metadata": {},
   "outputs": [],
   "source": [
    "import scipy.optimize as optimize\n",
    "# it's important to give it a good guess, \n",
    "# so put in that Lomb-Scargle period.\n",
    "guess = [1,0,period,0]\n",
    "fit = optimize.curve_fit(Sine, t, mag, guess)\n",
    "(amp, offset, period, phase) = fit[0]\n",
    "print (\"amp =\", amp, \"offset =\", offset, \"period =\", period, \"phase =\", phase)\n",
    "\n",
    "x = np.arange(0, 30, 0.1)\n",
    "plt.plot(t,mag, 'bo')\n",
    "plt.plot(x, Sine(x, amp, offset, period, phase), 'g-')\n",
    "plt.gca().invert_yaxis()"
   ]
  },
  {
   "cell_type": "markdown",
   "metadata": {
    "slideshow": {
     "slide_type": "slide"
    }
   },
   "source": [
    "### Light Curve Recovered!"
   ]
  },
  {
   "cell_type": "code",
   "execution_count": null,
   "metadata": {
    "slideshow": {
     "slide_type": "-"
    }
   },
   "outputs": [],
   "source": [
    "plt.plot((t % period)/period, mag, 'bo')\n",
    "x = np.arange(0, period, period/1000) # one thousand points ought to look pretty smooth\n",
    "plt.plot( x / period, Sine(x, amp, offset, period, phase), 'g-' )\n",
    "plt.gca().invert_yaxis()"
   ]
  },
  {
   "cell_type": "code",
   "execution_count": null,
   "metadata": {
    "slideshow": {
     "slide_type": "slide"
    }
   },
   "outputs": [],
   "source": [
    "\"\"\" Try it!\n",
    "\"\"\"\n",
    "\n",
    "lc = np.genfromtxt('LightCurve4.dat', names=True)\n",
    "t = lc['date']\n",
    "mag = lc['bmag']\n",
    "\n",
    "# fit the light curve!\n",
    "guess = [1,0,period,0]\n",
    "fit = optimize.curve_fit(Sine, t, mag, guess)\n",
    "(amp, offset, period, phase) = fit[0]\n",
    "print (\"amp =\", amp, \"offset =\", offset, \"period =\", period, \"phase =\", phase)\n",
    "\n",
    "x = np.arange(0, 30, 0.1)\n",
    "plt.plot(t,mag, 'bo')\n",
    "plt.plot(x, Sine(x, amp, offset, period, phase), 'g-')\n",
    "plt.gca().invert_yaxis()"
   ]
  }
 ],
 "metadata": {
  "celltoolbar": "Slideshow",
  "kernelspec": {
   "display_name": "Python 3",
   "language": "python",
   "name": "python3"
  },
  "language_info": {
   "codemirror_mode": {
    "name": "ipython",
    "version": 3
   },
   "file_extension": ".py",
   "mimetype": "text/x-python",
   "name": "python",
   "nbconvert_exporter": "python",
   "pygments_lexer": "ipython3",
   "version": "3.8.5"
  },
  "rise": {
   "enable_chalkboard": true,
   "scroll": true,
   "theme": "Sky"
  }
 },
 "nbformat": 4,
 "nbformat_minor": 4
}
